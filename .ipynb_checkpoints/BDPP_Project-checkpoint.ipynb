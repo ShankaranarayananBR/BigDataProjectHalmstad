{
 "cells": [
  {
   "cell_type": "code",
   "execution_count": 84,
   "metadata": {},
   "outputs": [],
   "source": [
    "from pyspark.sql import SparkSession\n",
    "import pyspark.sql as pysparksql\n",
    "import pandas \n",
    "import seaborn as sns\n",
    "import warnings\n",
    "warnings.filterwarnings(\"ignore\")"
   ]
  },
  {
   "cell_type": "code",
   "execution_count": 85,
   "metadata": {},
   "outputs": [],
   "source": [
    "#Creating SparkSession and also loading the csv data\n",
    "spark=SparkSession.builder.appName(\"HeartStroke\").getOrCreate()\n",
    "heart_stroke_train=spark.read.csv(\"train_2v.csv\",inferSchema=True,header=True)\n",
    "testSet=spark.read.csv(\"test_2v.csv\",inferSchema=True,header=True)"
   ]
  },
  {
   "cell_type": "code",
   "execution_count": 86,
   "metadata": {},
   "outputs": [
    {
     "name": "stdout",
     "output_type": "stream",
     "text": [
      "root\n",
      " |-- id: integer (nullable = true)\n",
      " |-- gender: string (nullable = true)\n",
      " |-- age: double (nullable = true)\n",
      " |-- hypertension: integer (nullable = true)\n",
      " |-- heart_disease: integer (nullable = true)\n",
      " |-- ever_married: string (nullable = true)\n",
      " |-- work_type: string (nullable = true)\n",
      " |-- Residence_type: string (nullable = true)\n",
      " |-- avg_glucose_level: double (nullable = true)\n",
      " |-- bmi: double (nullable = true)\n",
      " |-- smoking_status: string (nullable = true)\n",
      " |-- stroke: integer (nullable = true)\n",
      "\n"
     ]
    }
   ],
   "source": [
    "#Printing the schema \n",
    "heart_stroke_train.printSchema()"
   ]
  },
  {
   "cell_type": "code",
   "execution_count": 87,
   "metadata": {},
   "outputs": [
    {
     "data": {
      "text/plain": [
       "(43400, 12)"
      ]
     },
     "execution_count": 87,
     "metadata": {},
     "output_type": "execute_result"
    }
   ],
   "source": [
    "#Printing the dimensions of the dataset(rows,columns)\n",
    "heart_stroke_train.count(),len(heart_stroke_train.columns)"
   ]
  },
  {
   "cell_type": "code",
   "execution_count": 88,
   "metadata": {},
   "outputs": [
    {
     "name": "stdout",
     "output_type": "stream",
     "text": [
      "+-----+------+----+------------+-------------+------------+-------------+--------------+-----------------+----+---------------+------+\n",
      "|   id|gender| age|hypertension|heart_disease|ever_married|    work_type|Residence_type|avg_glucose_level| bmi| smoking_status|stroke|\n",
      "+-----+------+----+------------+-------------+------------+-------------+--------------+-----------------+----+---------------+------+\n",
      "|30669|  Male| 3.0|           0|            0|          No|     children|         Rural|            95.12|18.0|           null|     0|\n",
      "|30468|  Male|58.0|           1|            0|         Yes|      Private|         Urban|            87.96|39.2|   never smoked|     0|\n",
      "|16523|Female| 8.0|           0|            0|          No|      Private|         Urban|           110.89|17.6|           null|     0|\n",
      "|56543|Female|70.0|           0|            0|         Yes|      Private|         Rural|            69.04|35.9|formerly smoked|     0|\n",
      "|46136|  Male|14.0|           0|            0|          No| Never_worked|         Rural|           161.28|19.1|           null|     0|\n",
      "|32257|Female|47.0|           0|            0|         Yes|      Private|         Urban|           210.95|50.1|           null|     0|\n",
      "|52800|Female|52.0|           0|            0|         Yes|      Private|         Urban|            77.59|17.7|formerly smoked|     0|\n",
      "|41413|Female|75.0|           0|            1|         Yes|Self-employed|         Rural|           243.53|27.0|   never smoked|     0|\n",
      "|15266|Female|32.0|           0|            0|         Yes|      Private|         Rural|            77.67|32.3|         smokes|     0|\n",
      "|28674|Female|74.0|           1|            0|         Yes|Self-employed|         Urban|           205.84|54.6|   never smoked|     0|\n",
      "|10460|Female|79.0|           0|            0|         Yes|     Govt_job|         Urban|            77.08|35.0|           null|     0|\n",
      "|64908|  Male|79.0|           0|            1|         Yes|      Private|         Urban|            57.08|22.0|formerly smoked|     0|\n",
      "|63884|Female|37.0|           0|            0|         Yes|      Private|         Rural|           162.96|39.4|   never smoked|     0|\n",
      "|37893|Female|37.0|           0|            0|         Yes|      Private|         Rural|             73.5|26.1|formerly smoked|     0|\n",
      "|67855|Female|40.0|           0|            0|         Yes|      Private|         Rural|            95.04|42.4|   never smoked|     0|\n",
      "|25774|  Male|35.0|           0|            0|          No|      Private|         Rural|            85.37|33.0|   never smoked|     0|\n",
      "|19584|Female|20.0|           0|            0|          No|      Private|         Urban|            84.62|19.7|         smokes|     0|\n",
      "|24447|Female|42.0|           0|            0|         Yes|      Private|         Rural|            82.67|22.5|   never smoked|     0|\n",
      "|49589|Female|44.0|           0|            0|         Yes|     Govt_job|         Urban|            57.33|24.6|         smokes|     0|\n",
      "|17986|Female|79.0|           0|            1|         Yes|Self-employed|         Urban|            67.84|25.2|         smokes|     0|\n",
      "+-----+------+----+------------+-------------+------------+-------------+--------------+-----------------+----+---------------+------+\n",
      "only showing top 20 rows\n",
      "\n"
     ]
    }
   ],
   "source": [
    "heart_stroke_train.show()"
   ]
  },
  {
   "cell_type": "code",
   "execution_count": 89,
   "metadata": {},
   "outputs": [
    {
     "name": "stdout",
     "output_type": "stream",
     "text": [
      "+------+-----+\n",
      "|stroke|count|\n",
      "+------+-----+\n",
      "|     1|  783|\n",
      "|     0|42617|\n",
      "+------+-----+\n",
      "\n"
     ]
    },
    {
     "data": {
      "text/plain": [
       "<matplotlib.axes._subplots.AxesSubplot at 0x1ee868d0808>"
      ]
     },
     "execution_count": 89,
     "metadata": {},
     "output_type": "execute_result"
    },
    {
     "data": {
      "image/png": "[encoded data removed]",
      "text/plain": [
       "<Figure size 432x288 with 1 Axes>"
      ]
     },
     "metadata": {
      "needs_background": "light"
     },
     "output_type": "display_data"
    }
   ],
   "source": [
    "import matplotlib.pyplot as plt\n",
    "heart_stroke_train.groupBy('stroke').count().show()\n",
    "df_heart=heart_stroke_train.groupBy('stroke').count().toPandas()\n",
    "df_heart.plot(x='stroke',y='count',kind='bar')"
   ]
  },
  {
   "cell_type": "code",
   "execution_count": 90,
   "metadata": {},
   "outputs": [],
   "source": [
    "heart_stroke_train.createOrReplaceTempView('heart')"
   ]
  },
  {
   "cell_type": "code",
   "execution_count": 91,
   "metadata": {},
   "outputs": [
    {
     "name": "stdout",
     "output_type": "stream",
     "text": [
      "+-------------+-----+\n",
      "|    work_type|count|\n",
      "+-------------+-----+\n",
      "|      Private|  441|\n",
      "|Self-employed|  251|\n",
      "|     Govt_job|   89|\n",
      "|     children|    2|\n",
      "+-------------+-----+\n",
      "\n"
     ]
    },
    {
     "data": {
      "text/plain": [
       "<matplotlib.axes._subplots.AxesSubplot at 0x1ee86953c08>"
      ]
     },
     "execution_count": 91,
     "metadata": {},
     "output_type": "execute_result"
    },
    {
     "data": {
      "image/png": "[encoded data removed]",
      "text/plain": [
       "<Figure size 432x288 with 1 Axes>"
      ]
     },
     "metadata": {
      "needs_background": "light"
     },
     "output_type": "display_data"
    }
   ],
   "source": [
    "#We are finding which work type is more harmful. We are can see that people in private Jobs have more strokes \n",
    "heart_stroke_train.filter(heart_stroke_train['stroke']==1).groupBy('work_type').count().orderBy('count',ascending=False).show()\n",
    "heart_stroke_train_plot=heart_stroke_train.filter(heart_stroke_train['stroke']==1).groupBy('work_type').count().orderBy('count',ascending=False)\n",
    "data=heart_stroke_train_plot.toPandas()\n",
    "data.plot(x='work_type',y='count',kind='barh')"
   ]
  },
  {
   "cell_type": "code",
   "execution_count": 92,
   "metadata": {},
   "outputs": [
    {
     "name": "stdout",
     "output_type": "stream",
     "text": [
      "+---------------+-----+\n",
      "| smoking_status|count|\n",
      "+---------------+-----+\n",
      "|   never smoked|  284|\n",
      "|formerly smoked|  221|\n",
      "|           null|  145|\n",
      "|         smokes|  133|\n",
      "+---------------+-----+\n",
      "\n"
     ]
    }
   ],
   "source": [
    "heart_stroke_train.filter(heart_stroke_train['stroke']==1).groupBy('smoking_status').count().orderBy('count',ascending=False).show()\n"
   ]
  },
  {
   "cell_type": "markdown",
   "metadata": {},
   "source": [
    "Since we can see that we have the 'null' value in the smoke type. It will be better to replace it another parameter called 'No Info' as it will look cleaner"
   ]
  },
  {
   "cell_type": "code",
   "execution_count": 93,
   "metadata": {},
   "outputs": [
    {
     "name": "stdout",
     "output_type": "stream",
     "text": [
      "+-----+------+----+------------+-------------+------------+-------------+--------------+-----------------+----+---------------+------+\n",
      "|   id|gender| age|hypertension|heart_disease|ever_married|    work_type|Residence_type|avg_glucose_level| bmi| smoking_status|stroke|\n",
      "+-----+------+----+------------+-------------+------------+-------------+--------------+-----------------+----+---------------+------+\n",
      "|30669|  Male| 3.0|           0|            0|          No|     children|         Rural|            95.12|18.0|        No Info|     0|\n",
      "|30468|  Male|58.0|           1|            0|         Yes|      Private|         Urban|            87.96|39.2|   never smoked|     0|\n",
      "|16523|Female| 8.0|           0|            0|          No|      Private|         Urban|           110.89|17.6|        No Info|     0|\n",
      "|56543|Female|70.0|           0|            0|         Yes|      Private|         Rural|            69.04|35.9|formerly smoked|     0|\n",
      "|46136|  Male|14.0|           0|            0|          No| Never_worked|         Rural|           161.28|19.1|        No Info|     0|\n",
      "|32257|Female|47.0|           0|            0|         Yes|      Private|         Urban|           210.95|50.1|        No Info|     0|\n",
      "|52800|Female|52.0|           0|            0|         Yes|      Private|         Urban|            77.59|17.7|formerly smoked|     0|\n",
      "|41413|Female|75.0|           0|            1|         Yes|Self-employed|         Rural|           243.53|27.0|   never smoked|     0|\n",
      "|15266|Female|32.0|           0|            0|         Yes|      Private|         Rural|            77.67|32.3|         smokes|     0|\n",
      "|28674|Female|74.0|           1|            0|         Yes|Self-employed|         Urban|           205.84|54.6|   never smoked|     0|\n",
      "|10460|Female|79.0|           0|            0|         Yes|     Govt_job|         Urban|            77.08|35.0|        No Info|     0|\n",
      "|64908|  Male|79.0|           0|            1|         Yes|      Private|         Urban|            57.08|22.0|formerly smoked|     0|\n",
      "|63884|Female|37.0|           0|            0|         Yes|      Private|         Rural|           162.96|39.4|   never smoked|     0|\n",
      "|37893|Female|37.0|           0|            0|         Yes|      Private|         Rural|             73.5|26.1|formerly smoked|     0|\n",
      "|67855|Female|40.0|           0|            0|         Yes|      Private|         Rural|            95.04|42.4|   never smoked|     0|\n",
      "|25774|  Male|35.0|           0|            0|          No|      Private|         Rural|            85.37|33.0|   never smoked|     0|\n",
      "|19584|Female|20.0|           0|            0|          No|      Private|         Urban|            84.62|19.7|         smokes|     0|\n",
      "|24447|Female|42.0|           0|            0|         Yes|      Private|         Rural|            82.67|22.5|   never smoked|     0|\n",
      "|49589|Female|44.0|           0|            0|         Yes|     Govt_job|         Urban|            57.33|24.6|         smokes|     0|\n",
      "|17986|Female|79.0|           0|            1|         Yes|Self-employed|         Urban|            67.84|25.2|         smokes|     0|\n",
      "+-----+------+----+------------+-------------+------------+-------------+--------------+-----------------+----+---------------+------+\n",
      "only showing top 20 rows\n",
      "\n"
     ]
    }
   ],
   "source": [
    "updated_info=heart_stroke_train.fillna('No Info',subset=['smoking_status'])\n",
    "updated_info.show()"
   ]
  },
  {
   "cell_type": "markdown",
   "metadata": {},
   "source": [
    "We can now see that we null value in the smoking_status column has been replaced with No Info."
   ]
  },
  {
   "cell_type": "code",
   "execution_count": 94,
   "metadata": {},
   "outputs": [
    {
     "data": {
      "text/plain": [
       "<matplotlib.axes._subplots.AxesSubplot at 0x1ee869bec48>"
      ]
     },
     "execution_count": 94,
     "metadata": {},
     "output_type": "execute_result"
    },
    {
     "data": {
      "image/png": "[encoded data removed]",
      "text/plain": [
       "<Figure size 432x288 with 1 Axes>"
      ]
     },
     "metadata": {
      "needs_background": "light"
     },
     "output_type": "display_data"
    }
   ],
   "source": [
    "smoking_status_plot=updated_info.filter(heart_stroke_train['stroke']==1).groupBy('smoking_status').count().orderBy('count',ascending=False)\n",
    "#sns.barplot(x='smoking_status',y='count',data=smoking_status_plot.toPandas())\n",
    "data=smoking_status_plot.toPandas()\n",
    "data.plot(x='smoking_status',y='count',kind='barh')"
   ]
  },
  {
   "cell_type": "markdown",
   "metadata": {},
   "source": [
    "We can see that people who have never smoked have higher risk of heart_stroke"
   ]
  },
  {
   "cell_type": "code",
   "execution_count": 95,
   "metadata": {},
   "outputs": [
    {
     "name": "stdout",
     "output_type": "stream",
     "text": [
      "+----+-----+\n",
      "| age|count|\n",
      "+----+-----+\n",
      "|82.0|   36|\n",
      "|81.0|   43|\n",
      "|80.0|   49|\n",
      "|79.0|   70|\n",
      "|78.0|   57|\n",
      "|77.0|   24|\n",
      "|76.0|   24|\n",
      "|75.0|   23|\n",
      "|74.0|   24|\n",
      "|73.0|   15|\n",
      "|72.0|   21|\n",
      "|71.0|   19|\n",
      "|70.0|   25|\n",
      "|69.0|   20|\n",
      "|68.0|   20|\n",
      "|67.0|   23|\n",
      "|66.0|   17|\n",
      "|65.0|   18|\n",
      "|64.0|    8|\n",
      "|63.0|   18|\n",
      "+----+-----+\n",
      "only showing top 20 rows\n",
      "\n"
     ]
    },
    {
     "data": {
      "text/plain": [
       "<matplotlib.axes._subplots.AxesSubplot at 0x1ee86a2ef48>"
      ]
     },
     "execution_count": 95,
     "metadata": {},
     "output_type": "execute_result"
    },
    {
     "data": {
      "text/plain": [
       "<Figure size 2160x1440 with 0 Axes>"
      ]
     },
     "metadata": {},
     "output_type": "display_data"
    },
    {
     "data": {
      "image/png": "[encoded data removed]",
      "text/plain": [
       "<Figure size 2160x1440 with 1 Axes>"
      ]
     },
     "metadata": {
      "needs_background": "light"
     },
     "output_type": "display_data"
    }
   ],
   "source": [
    "import matplotlib.pyplot as plt\n",
    "%matplotlib inline\n",
    "updated_info.filter(updated_info['stroke']==1).groupBy('age').count().orderBy('age',ascending=False).show()\n",
    "plt.figure(figsize=(30, 20))\n",
    "#sns.barplot(x='age',y='count',data=updated_info.filter(updated_info['stroke']==1).groupBy('age').count().orderBy('age',ascending=False).toPandas())\n",
    "data=updated_info.filter(updated_info['stroke']==1).groupBy('age').count().orderBy('age',ascending=False).toPandas()\n",
    "data.plot(x='age',y='count',kind='barh',figsize=(30, 30))"
   ]
  },
  {
   "cell_type": "code",
   "execution_count": 96,
   "metadata": {},
   "outputs": [
    {
     "name": "stdout",
     "output_type": "stream",
     "text": [
      "+----+\n",
      "| bmi|\n",
      "+----+\n",
      "|36.6|\n",
      "|null|\n",
      "|32.5|\n",
      "|34.4|\n",
      "|24.0|\n",
      "|29.0|\n",
      "|27.4|\n",
      "|22.8|\n",
      "|null|\n",
      "|24.2|\n",
      "|29.7|\n",
      "|36.8|\n",
      "|27.3|\n",
      "|null|\n",
      "|28.2|\n",
      "|30.9|\n",
      "|37.5|\n",
      "|25.8|\n",
      "|37.8|\n",
      "|null|\n",
      "+----+\n",
      "only showing top 20 rows\n",
      "\n"
     ]
    }
   ],
   "source": [
    "updated_info.filter(updated_info['stroke']==1).select('bmi').show()"
   ]
  },
  {
   "cell_type": "markdown",
   "metadata": {},
   "source": [
    "We can see that there is null value in the bmi column. In the following cell we will be replacing this with mean value in the column. This is part of the data cleaning task."
   ]
  },
  {
   "cell_type": "code",
   "execution_count": 97,
   "metadata": {},
   "outputs": [
    {
     "name": "stdout",
     "output_type": "stream",
     "text": [
      "+------------------+\n",
      "|               bmi|\n",
      "+------------------+\n",
      "|              36.6|\n",
      "|28.605038390004545|\n",
      "|              32.5|\n",
      "|              34.4|\n",
      "|              24.0|\n",
      "|              29.0|\n",
      "|              27.4|\n",
      "|              22.8|\n",
      "|28.605038390004545|\n",
      "|              24.2|\n",
      "|              29.7|\n",
      "|              36.8|\n",
      "|              27.3|\n",
      "|28.605038390004545|\n",
      "|              28.2|\n",
      "|              30.9|\n",
      "|              37.5|\n",
      "|              25.8|\n",
      "|              37.8|\n",
      "|28.605038390004545|\n",
      "+------------------+\n",
      "only showing top 20 rows\n",
      "\n"
     ]
    }
   ],
   "source": [
    "from pyspark.sql.functions import mean\n",
    "mean = updated_info.select(mean(updated_info['bmi'])).collect()\n",
    "mean_bmi = mean[0][0]\n",
    "updated_info = updated_info.fillna(mean_bmi,['bmi'])\n",
    "updated_info.filter(updated_info['stroke']==1).select('bmi').show()"
   ]
  },
  {
   "cell_type": "code",
   "execution_count": 98,
   "metadata": {},
   "outputs": [
    {
     "name": "stdout",
     "output_type": "stream",
     "text": [
      "+----+\n",
      "| bmi|\n",
      "+----+\n",
      "|36.6|\n",
      "|28.6|\n",
      "|32.5|\n",
      "|34.4|\n",
      "|24.0|\n",
      "|29.0|\n",
      "|27.4|\n",
      "|22.8|\n",
      "|28.6|\n",
      "|24.2|\n",
      "|29.7|\n",
      "|36.8|\n",
      "|27.3|\n",
      "|28.6|\n",
      "|28.2|\n",
      "|30.9|\n",
      "|37.5|\n",
      "|25.8|\n",
      "|37.8|\n",
      "|28.6|\n",
      "+----+\n",
      "only showing top 20 rows\n",
      "\n"
     ]
    }
   ],
   "source": [
    "import pyspark.sql.functions as func\n",
    "updated_info = updated_info.withColumn('bmi', func.round(updated_info['bmi'], 1))\n",
    "updated_info.filter(updated_info['stroke']==1).select('bmi').show()"
   ]
  },
  {
   "cell_type": "code",
   "execution_count": 99,
   "metadata": {},
   "outputs": [
    {
     "data": {
      "text/plain": [
       "241"
      ]
     },
     "execution_count": 99,
     "metadata": {},
     "output_type": "execute_result"
    }
   ],
   "source": [
    "spark.sql(\"SELECT * FROM heart WHERE bmi=28.6\").count()"
   ]
  },
  {
   "cell_type": "markdown",
   "metadata": {},
   "source": [
    "Now we will be able to see the effect of BMI in the number of people who get the heart stroke. "
   ]
  },
  {
   "cell_type": "code",
   "execution_count": 100,
   "metadata": {},
   "outputs": [
    {
     "name": "stdout",
     "output_type": "stream",
     "text": [
      "+----+-----+\n",
      "| bmi|count|\n",
      "+----+-----+\n",
      "|28.6|  143|\n",
      "|31.4|    9|\n",
      "|30.9|    9|\n",
      "|26.6|    9|\n",
      "|26.4|    9|\n",
      "|27.5|    8|\n",
      "|31.5|    8|\n",
      "|30.7|    8|\n",
      "|28.5|    7|\n",
      "|25.8|    7|\n",
      "|24.2|    7|\n",
      "|30.3|    6|\n",
      "|27.3|    6|\n",
      "|27.0|    6|\n",
      "|29.7|    6|\n",
      "|29.3|    6|\n",
      "|27.7|    6|\n",
      "|30.6|    6|\n",
      "|25.0|    6|\n",
      "|28.0|    6|\n",
      "+----+-----+\n",
      "only showing top 20 rows\n",
      "\n"
     ]
    }
   ],
   "source": [
    "updated_info.filter(updated_info['stroke']==1).groupBy('bmi').count().orderBy('count',ascending=False).show()"
   ]
  },
  {
   "cell_type": "markdown",
   "metadata": {},
   "source": [
    "We can see that people with people with higher BMI chance of getting a stroke.\n",
    "\n",
    "In the next section we will see how many people had participated in this clinical process"
   ]
  },
  {
   "cell_type": "code",
   "execution_count": 101,
   "metadata": {},
   "outputs": [
    {
     "name": "stdout",
     "output_type": "stream",
     "text": [
      "+------+------------+-------------------+\n",
      "|gender|gender_count|         percentage|\n",
      "+------+------------+-------------------+\n",
      "|Female|       25665|  59.13594470046083|\n",
      "| Other|          11|0.02534562211981567|\n",
      "|  Male|       17724|  40.83870967741935|\n",
      "+------+------------+-------------------+\n",
      "\n"
     ]
    }
   ],
   "source": [
    "spark.sql(\"SELECT gender,count(gender) as gender_count,count(gender)*100/sum(count(gender)) over() as percentage FROM heart GROUP BY gender\").show()"
   ]
  },
  {
   "cell_type": "code",
   "execution_count": 102,
   "metadata": {},
   "outputs": [
    {
     "name": "stdout",
     "output_type": "stream",
     "text": [
      "+------+-------------+----------------+\n",
      "|gender|count(gender)|      percentage|\n",
      "+------+-------------+----------------+\n",
      "|  Male|          352|1.98600767321146|\n",
      "+------+-------------+----------------+\n",
      "\n",
      "+------+-------------+----------------+\n",
      "|gender|count(gender)|      percentage|\n",
      "+------+-------------+----------------+\n",
      "|Female|          431|1.67932982661212|\n",
      "+------+-------------+----------------+\n",
      "\n"
     ]
    }
   ],
   "source": [
    "spark.sql(\"SELECT gender, count(gender), (COUNT(gender) * 100.0) /(SELECT count(gender) FROM heart WHERE gender == 'Male') as percentage FROM heart WHERE stroke = '1' and gender = 'Male' GROUP BY gender\").show()\n",
    "spark.sql(\"SELECT gender, count(gender), (COUNT(gender) * 100.0) /(SELECT count(gender) FROM heart WHERE gender == 'Female') as percentage FROM heart WHERE stroke = '1' and gender = 'Female' GROUP BY gender\").show()"
   ]
  },
  {
   "cell_type": "code",
   "execution_count": 103,
   "metadata": {},
   "outputs": [
    {
     "data": {
      "text/plain": [
       "708"
      ]
     },
     "execution_count": 103,
     "metadata": {},
     "output_type": "execute_result"
    }
   ],
   "source": [
    "updated_info.filter((updated_info['stroke'] == 1) & (updated_info['age'] > '50')).count()"
   ]
  },
  {
   "cell_type": "code",
   "execution_count": 104,
   "metadata": {},
   "outputs": [
    {
     "name": "stdout",
     "output_type": "stream",
     "text": [
      "+------+----------+\n",
      "|gender|gender_num|\n",
      "+------+----------+\n",
      "|  Male|       1.0|\n",
      "|  Male|       1.0|\n",
      "|Female|       0.0|\n",
      "|Female|       0.0|\n",
      "|  Male|       1.0|\n",
      "+------+----------+\n",
      "only showing top 5 rows\n",
      "\n"
     ]
    }
   ],
   "source": [
    "#StringIndexer for gender column\n",
    "from pyspark.ml.feature import StringIndexer\n",
    "from pyspark.ml.feature import OneHotEncoderEstimator\n",
    "gender_indexer=StringIndexer(inputCol=\"gender\",outputCol=\"gender_num\")\n",
    "updated_info=gender_indexer.fit(updated_info).transform(updated_info)\n",
    "updated_info.select([\"gender\",\"gender_num\"]).show(5)"
   ]
  },
  {
   "cell_type": "code",
   "execution_count": 105,
   "metadata": {},
   "outputs": [
    {
     "data": {
      "text/plain": [
       "[Row(gender_num_vec=SparseVector(2, {1: 1.0})),\n",
       " Row(gender_num_vec=SparseVector(2, {1: 1.0})),\n",
       " Row(gender_num_vec=SparseVector(2, {0: 1.0})),\n",
       " Row(gender_num_vec=SparseVector(2, {0: 1.0})),\n",
       " Row(gender_num_vec=SparseVector(2, {1: 1.0}))]"
      ]
     },
     "execution_count": 105,
     "metadata": {},
     "output_type": "execute_result"
    }
   ],
   "source": [
    "#OneHotEncoderEstimate for the gender column\n",
    "\n",
    "gender_encoder=OneHotEncoderEstimator(inputCols=[\"gender_num\"],outputCols=[\"gender_num_vec\"])\n",
    "model=gender_encoder.fit(updated_info)\n",
    "updated_info=model.transform(updated_info)\n",
    "updated_info.select(\"gender_num_vec\").take(5)\n"
   ]
  },
  {
   "cell_type": "code",
   "execution_count": 106,
   "metadata": {},
   "outputs": [
    {
     "name": "stdout",
     "output_type": "stream",
     "text": [
      "+------------+----------------+\n",
      "|ever_married|ever_married_num|\n",
      "+------------+----------------+\n",
      "|          No|             1.0|\n",
      "|         Yes|             0.0|\n",
      "|          No|             1.0|\n",
      "|         Yes|             0.0|\n",
      "|          No|             1.0|\n",
      "+------------+----------------+\n",
      "only showing top 5 rows\n",
      "\n"
     ]
    }
   ],
   "source": [
    "#StringIndexer for ever married column\n",
    "ever_married_indexer=StringIndexer(inputCol=\"ever_married\",outputCol=\"ever_married_num\")\n",
    "updated_info=ever_married_indexer.fit(updated_info).transform(updated_info)\n",
    "updated_info.select([\"ever_married\",\"ever_married_num\"]).show(5)"
   ]
  },
  {
   "cell_type": "code",
   "execution_count": 107,
   "metadata": {},
   "outputs": [
    {
     "data": {
      "text/plain": [
       "[Row(ever_married_num_vec=SparseVector(1, {})),\n",
       " Row(ever_married_num_vec=SparseVector(1, {0: 1.0})),\n",
       " Row(ever_married_num_vec=SparseVector(1, {})),\n",
       " Row(ever_married_num_vec=SparseVector(1, {0: 1.0})),\n",
       " Row(ever_married_num_vec=SparseVector(1, {}))]"
      ]
     },
     "execution_count": 107,
     "metadata": {},
     "output_type": "execute_result"
    }
   ],
   "source": [
    "#OneHotEncoder for ever married column\n",
    "\n",
    "ever_married_encoder=OneHotEncoderEstimator(inputCols=[\"ever_married_num\"],outputCols=[\"ever_married_num_vec\"])\n",
    "model=ever_married_encoder.fit(updated_info)\n",
    "updated_info=model.transform(updated_info)\n",
    "updated_info.select(\"ever_married_num_vec\").take(5)\n"
   ]
  },
  {
   "cell_type": "code",
   "execution_count": 108,
   "metadata": {},
   "outputs": [
    {
     "name": "stdout",
     "output_type": "stream",
     "text": [
      "+------------+-------------+\n",
      "|   work_type|work_type_num|\n",
      "+------------+-------------+\n",
      "|    children|          2.0|\n",
      "|     Private|          0.0|\n",
      "|     Private|          0.0|\n",
      "|     Private|          0.0|\n",
      "|Never_worked|          4.0|\n",
      "+------------+-------------+\n",
      "only showing top 5 rows\n",
      "\n"
     ]
    }
   ],
   "source": [
    "#StringIndexer for work_type column\n",
    "work_type_indexer=StringIndexer(inputCol=\"work_type\",outputCol=\"work_type_num\")\n",
    "updated_info=work_type_indexer.fit(updated_info).transform(updated_info)\n",
    "updated_info.select([\"work_type\",\"work_type_num\"]).show(5)"
   ]
  },
  {
   "cell_type": "code",
   "execution_count": 109,
   "metadata": {},
   "outputs": [
    {
     "data": {
      "text/plain": [
       "[Row(work_type_num_vec=SparseVector(4, {2: 1.0})),\n",
       " Row(work_type_num_vec=SparseVector(4, {0: 1.0})),\n",
       " Row(work_type_num_vec=SparseVector(4, {0: 1.0})),\n",
       " Row(work_type_num_vec=SparseVector(4, {0: 1.0})),\n",
       " Row(work_type_num_vec=SparseVector(4, {}))]"
      ]
     },
     "execution_count": 109,
     "metadata": {},
     "output_type": "execute_result"
    }
   ],
   "source": [
    "#OneHotEncoder for work_type\n",
    "\n",
    "work_type_encoder=OneHotEncoderEstimator(inputCols=[\"work_type_num\"],outputCols=[\"work_type_num_vec\"])\n",
    "model=work_type_encoder.fit(updated_info)\n",
    "updated_info=model.transform(updated_info)\n",
    "updated_info.select(\"work_type_num_vec\").take(5)\n"
   ]
  },
  {
   "cell_type": "code",
   "execution_count": 110,
   "metadata": {},
   "outputs": [
    {
     "name": "stdout",
     "output_type": "stream",
     "text": [
      "+--------------+------------------+\n",
      "|Residence_type|Residence_type_num|\n",
      "+--------------+------------------+\n",
      "|         Rural|               1.0|\n",
      "|         Urban|               0.0|\n",
      "|         Urban|               0.0|\n",
      "|         Rural|               1.0|\n",
      "|         Rural|               1.0|\n",
      "+--------------+------------------+\n",
      "only showing top 5 rows\n",
      "\n"
     ]
    }
   ],
   "source": [
    "Residence_type_indexer=StringIndexer(inputCol=\"Residence_type\",outputCol=\"Residence_type_num\")\n",
    "updated_info=Residence_type_indexer.fit(updated_info).transform(updated_info)\n",
    "updated_info.select([\"Residence_type\",\"Residence_type_num\"]).show(5)"
   ]
  },
  {
   "cell_type": "code",
   "execution_count": 111,
   "metadata": {},
   "outputs": [
    {
     "data": {
      "text/plain": [
       "[Row(Residence_type_num_vec=SparseVector(1, {})),\n",
       " Row(Residence_type_num_vec=SparseVector(1, {0: 1.0})),\n",
       " Row(Residence_type_num_vec=SparseVector(1, {0: 1.0})),\n",
       " Row(Residence_type_num_vec=SparseVector(1, {})),\n",
       " Row(Residence_type_num_vec=SparseVector(1, {}))]"
      ]
     },
     "execution_count": 111,
     "metadata": {},
     "output_type": "execute_result"
    }
   ],
   "source": [
    "Residence_type_encoder=OneHotEncoderEstimator(inputCols=[\"Residence_type_num\"],outputCols=[\"Residence_type_num_vec\"])\n",
    "model=Residence_type_encoder.fit(updated_info)\n",
    "updated_info=model.transform(updated_info)\n",
    "updated_info.select(\"Residence_type_num_vec\").take(5)"
   ]
  },
  {
   "cell_type": "code",
   "execution_count": 112,
   "metadata": {},
   "outputs": [
    {
     "name": "stdout",
     "output_type": "stream",
     "text": [
      "+---------------+------------------+\n",
      "| smoking_status|smoking_status_num|\n",
      "+---------------+------------------+\n",
      "|        No Info|               1.0|\n",
      "|   never smoked|               0.0|\n",
      "|        No Info|               1.0|\n",
      "|formerly smoked|               2.0|\n",
      "|        No Info|               1.0|\n",
      "+---------------+------------------+\n",
      "only showing top 5 rows\n",
      "\n"
     ]
    }
   ],
   "source": [
    "smoking_status_indexer=StringIndexer(inputCol=\"smoking_status\",outputCol=\"smoking_status_num\")\n",
    "updated_info=smoking_status_indexer.fit(updated_info).transform(updated_info)\n",
    "updated_info.select([\"smoking_status\",\"smoking_status_num\"]).show(5)"
   ]
  },
  {
   "cell_type": "code",
   "execution_count": 113,
   "metadata": {},
   "outputs": [
    {
     "data": {
      "text/plain": [
       "[Row(smoking_status_num_vec=SparseVector(3, {1: 1.0})),\n",
       " Row(smoking_status_num_vec=SparseVector(3, {0: 1.0})),\n",
       " Row(smoking_status_num_vec=SparseVector(3, {1: 1.0})),\n",
       " Row(smoking_status_num_vec=SparseVector(3, {2: 1.0})),\n",
       " Row(smoking_status_num_vec=SparseVector(3, {1: 1.0}))]"
      ]
     },
     "execution_count": 113,
     "metadata": {},
     "output_type": "execute_result"
    }
   ],
   "source": [
    "\n",
    "smoking_status_encoder=OneHotEncoderEstimator(inputCols=[\"smoking_status_num\"],outputCols=[\"smoking_status_num_vec\"])\n",
    "model=smoking_status_encoder.fit(updated_info)\n",
    "updated_info=model.transform(updated_info)\n",
    "updated_info.select(\"smoking_status_num_vec\").take(5)\n"
   ]
  },
  {
   "cell_type": "markdown",
   "metadata": {},
   "source": [
    "We are now going apply vectorAssembler to take all the attributes in the dataframe and combine it into one single output feature.This is mentioned in the outputCol parameter."
   ]
  },
  {
   "cell_type": "code",
   "execution_count": 114,
   "metadata": {},
   "outputs": [
    {
     "name": "stdout",
     "output_type": "stream",
     "text": [
      "+--------------------+--------------------+\n",
      "|            features|      scaledFeatures|\n",
      "+--------------------+--------------------+\n",
      "|[30669.0,3.0,0.0,...|[-0.2684655533322...|\n",
      "|[30468.0,58.0,1.0...|[-0.2780042166500...|\n",
      "|[16523.0,8.0,0.0,...|[-0.9397786443458...|\n",
      "|[56543.0,70.0,0.0...|[0.95941193266286...|\n",
      "|[46136.0,14.0,0.0...|[0.46553696177507...|\n",
      "+--------------------+--------------------+\n",
      "only showing top 5 rows\n",
      "\n"
     ]
    }
   ],
   "source": [
    "from pyspark.ml.linalg import Vectors\n",
    "from pyspark.ml.feature import VectorAssembler\n",
    "from pyspark.ml.feature import StandardScaler\n",
    "\n",
    "assembler=VectorAssembler(inputCols=['id','age','hypertension','heart_disease'\n",
    "                                     ,'avg_glucose_level','bmi','stroke',],outputCol=\"features\")\n",
    "updated_info=assembler.transform(updated_info)\n",
    "scaler = StandardScaler(inputCol=\"features\", outputCol=\"scaledFeatures\",withMean=True,withStd=True)\n",
    "\n",
    "scalerModel = scaler.fit(updated_info)\n",
    "scaledHousing = scalerModel.transform(updated_info)\n",
    "scaledHousing.select([\"features\", \"scaledFeatures\"]).show(5)\n"
   ]
  },
  {
   "cell_type": "code",
   "execution_count": 115,
   "metadata": {},
   "outputs": [
    {
     "name": "stdout",
     "output_type": "stream",
     "text": [
      "root\n",
      " |-- id: integer (nullable = true)\n",
      " |-- gender: string (nullable = true)\n",
      " |-- age: double (nullable = true)\n",
      " |-- hypertension: integer (nullable = true)\n",
      " |-- heart_disease: integer (nullable = true)\n",
      " |-- ever_married: string (nullable = true)\n",
      " |-- work_type: string (nullable = true)\n",
      " |-- Residence_type: string (nullable = true)\n",
      " |-- avg_glucose_level: double (nullable = true)\n",
      " |-- bmi: double (nullable = true)\n",
      " |-- smoking_status: string (nullable = false)\n",
      " |-- stroke: integer (nullable = true)\n",
      " |-- gender_num: double (nullable = false)\n",
      " |-- gender_num_vec: vector (nullable = true)\n",
      " |-- ever_married_num: double (nullable = false)\n",
      " |-- ever_married_num_vec: vector (nullable = true)\n",
      " |-- work_type_num: double (nullable = false)\n",
      " |-- work_type_num_vec: vector (nullable = true)\n",
      " |-- Residence_type_num: double (nullable = false)\n",
      " |-- Residence_type_num_vec: vector (nullable = true)\n",
      " |-- smoking_status_num: double (nullable = false)\n",
      " |-- smoking_status_num_vec: vector (nullable = true)\n",
      " |-- features: vector (nullable = true)\n",
      " |-- scaledFeatures: vector (nullable = true)\n",
      "\n"
     ]
    }
   ],
   "source": [
    "scaledHousing.printSchema()"
   ]
  },
  {
   "cell_type": "markdown",
   "metadata": {},
   "source": [
    "Applying the machine learnings models in the Dataset. The following models are implemented as given below\n",
    "1.Logistic Regression\n",
    "2.Decision Tree Regression\n",
    "3.RandomForest Regression\n"
   ]
  },
  {
   "cell_type": "code",
   "execution_count": 116,
   "metadata": {},
   "outputs": [
    {
     "data": {
      "image/png": "[encoded data removed]",
      "text/plain": [
       "<Figure size 432x288 with 1 Axes>"
      ]
     },
     "metadata": {
      "needs_background": "light"
     },
     "output_type": "display_data"
    }
   ],
   "source": [
    "from pyspark.ml.classification import LogisticRegression,DecisionTreeClassifier,RandomForestClassifier\n",
    "from pyspark.ml.evaluation import MulticlassClassificationEvaluator\n",
    "import matplotlib.pyplot as plt\n",
    "import numpy as np\n",
    "lr=LogisticRegression(featuresCol=\"features\",labelCol=\"stroke\",maxIter=10)\n",
    "lrModel=lr.fit(scaledHousing)\n",
    "beta=np.sort(lrModel.coefficients)\n",
    "plt.plot(beta)\n",
    "plt.ylabel(\"Beta Coefficients\")\n",
    "plt.show()"
   ]
  },
  {
   "cell_type": "code",
   "execution_count": 117,
   "metadata": {},
   "outputs": [
    {
     "data": {
      "image/png": "[encoded data removed]",
      "text/plain": [
       "<Figure size 432x288 with 1 Axes>"
      ]
     },
     "metadata": {
      "needs_background": "light"
     },
     "output_type": "display_data"
    },
    {
     "name": "stdout",
     "output_type": "stream",
     "text": [
      "Training set areaUnderROC: 0.9995555020929385\n"
     ]
    }
   ],
   "source": [
    "trainingSummary=lrModel.summary\n",
    "roc=trainingSummary.roc.toPandas()\n",
    "plt.plot(roc['FPR'],roc['TPR'])\n",
    "plt.xlabel('False Positive Rate')\n",
    "plt.ylabel('True Positive Rate')\n",
    "plt.title('ROC Curve')\n",
    "plt.show()\n",
    "print('Training set areaUnderROC: '+str(trainingSummary.areaUnderROC))"
   ]
  },
  {
   "cell_type": "code",
   "execution_count": 118,
   "metadata": {},
   "outputs": [
    {
     "data": {
      "image/png": "[encoded data removed]",
      "text/plain": [
       "<Figure size 432x288 with 1 Axes>"
      ]
     },
     "metadata": {
      "needs_background": "light"
     },
     "output_type": "display_data"
    }
   ],
   "source": [
    "pr = trainingSummary.pr.toPandas()\n",
    "plt.plot(pr['recall'],pr['precision'])\n",
    "plt.ylabel('Precision')\n",
    "plt.xlabel('Recall')\n",
    "plt.show()"
   ]
  },
  {
   "cell_type": "code",
   "execution_count": 119,
   "metadata": {},
   "outputs": [],
   "source": [
    "#Implementing DecisionTreeClassifier,RandomForrestClassifier and also \n"
   ]
  }
 ],
 "metadata": {
  "kernelspec": {
   "display_name": "Python 3",
   "language": "python",
   "name": "python3"
  },
  "language_info": {
   "codemirror_mode": {
    "name": "ipython",
    "version": 3
   },
   "file_extension": ".py",
   "mimetype": "text/x-python",
   "name": "python",
   "nbconvert_exporter": "python",
   "pygments_lexer": "ipython3",
   "version": "3.7.6"
  }
 },
 "nbformat": 4,
 "nbformat_minor": 4
}
